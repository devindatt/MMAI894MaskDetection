{
  "nbformat": 4,
  "nbformat_minor": 0,
  "metadata": {
    "colab": {
      "name": "Pull_Video_and_Weights_from_Internet.ipynb",
      "provenance": [],
      "collapsed_sections": []
    },
    "kernelspec": {
      "name": "python3",
      "display_name": "Python 3"
    },
    "language_info": {
      "name": "python"
    }
  },
  "cells": [
    {
      "cell_type": "markdown",
      "metadata": {
        "id": "Go721Kv2SMUP"
      },
      "source": [
        "### Down a Video from YouTube"
      ]
    },
    {
      "cell_type": "code",
      "metadata": {
        "colab": {
          "base_uri": "https://localhost:8080/"
        },
        "id": "8EI2PdjpZ6sZ",
        "outputId": "65521f10-b51f-4f48-e862-72b9e577600a"
      },
      "source": [
        "!ls"
      ],
      "execution_count": 1,
      "outputs": [
        {
          "output_type": "stream",
          "text": [
            "sample_data\n"
          ],
          "name": "stdout"
        }
      ]
    },
    {
      "cell_type": "code",
      "metadata": {
        "colab": {
          "base_uri": "https://localhost:8080/"
        },
        "id": "QQkV0Xg12yBB",
        "outputId": "e24a48d3-69c6-4a5c-fca8-9c88c3601afa"
      },
      "source": [
        "!pip install youtube_dl\n",
        "import youtube_dl\n",
        "\n",
        "!youtube-dl -f 18 \"https://youtu.be/YJa5iH1Y-7Y\" -o 'video/compiled_video2.mp4'"
      ],
      "execution_count": 2,
      "outputs": [
        {
          "output_type": "stream",
          "text": [
            "Requirement already satisfied: youtube_dl in /usr/local/lib/python3.7/dist-packages (2021.3.25)\n",
            "[youtube] YJa5iH1Y-7Y: Downloading webpage\n",
            "[youtube] YJa5iH1Y-7Y: Downloading MPD manifest\n",
            "[download] Destination: video/compiled_video2.mp4\n",
            "\u001b[K[download] 100% of 2.24MiB in 00:00\n"
          ],
          "name": "stdout"
        }
      ]
    },
    {
      "cell_type": "markdown",
      "metadata": {
        "id": "23K218RY5zTO"
      },
      "source": [
        "### Get Model Weights from Google Drive"
      ]
    },
    {
      "cell_type": "code",
      "metadata": {
        "colab": {
          "base_uri": "https://localhost:8080/"
        },
        "id": "PfrKy15k7uIL",
        "outputId": "b043d94a-8cc8-42f5-af9d-b67dfcbf13b6"
      },
      "source": [
        "# Download weights file for \"best_yolov4_csp\" model \n",
        "\n",
        "!pip install gdown\n",
        "\n",
        "!mkdir weights\n",
        "!gdown --id 1QI5MxSPzsBGoYJUSQHiGEuADRKz3re0N -O '/content/weights/best_yolov4-csp-results.pt'"
      ],
      "execution_count": 3,
      "outputs": [
        {
          "output_type": "stream",
          "text": [
            "Requirement already satisfied: gdown in /usr/local/lib/python3.7/dist-packages (3.6.4)\n",
            "Requirement already satisfied: requests in /usr/local/lib/python3.7/dist-packages (from gdown) (2.23.0)\n",
            "Requirement already satisfied: tqdm in /usr/local/lib/python3.7/dist-packages (from gdown) (4.41.1)\n",
            "Requirement already satisfied: six in /usr/local/lib/python3.7/dist-packages (from gdown) (1.15.0)\n",
            "Requirement already satisfied: certifi>=2017.4.17 in /usr/local/lib/python3.7/dist-packages (from requests->gdown) (2020.12.5)\n",
            "Requirement already satisfied: idna<3,>=2.5 in /usr/local/lib/python3.7/dist-packages (from requests->gdown) (2.10)\n",
            "Requirement already satisfied: urllib3!=1.25.0,!=1.25.1,<1.26,>=1.21.1 in /usr/local/lib/python3.7/dist-packages (from requests->gdown) (1.24.3)\n",
            "Requirement already satisfied: chardet<4,>=3.0.2 in /usr/local/lib/python3.7/dist-packages (from requests->gdown) (3.0.4)\n",
            "Downloading...\n",
            "From: https://drive.google.com/uc?id=1QI5MxSPzsBGoYJUSQHiGEuADRKz3re0N\n",
            "To: /content/weights/best_yolov4-csp-results.pt\n",
            "421MB [00:02, 150MB/s]\n"
          ],
          "name": "stdout"
        }
      ]
    },
    {
      "cell_type": "code",
      "metadata": {
        "id": "DHf5Txet9rxk"
      },
      "source": [
        ""
      ],
      "execution_count": 3,
      "outputs": []
    }
  ]
}